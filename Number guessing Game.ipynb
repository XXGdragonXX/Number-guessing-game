{
 "cells": [
  {
   "cell_type": "code",
   "execution_count": 1,
   "id": "0d450062",
   "metadata": {},
   "outputs": [],
   "source": [
    "import random"
   ]
  },
  {
   "cell_type": "code",
   "execution_count": 2,
   "id": "7cb946b4",
   "metadata": {},
   "outputs": [
    {
     "name": "stdout",
     "output_type": "stream",
     "text": [
      "Welcome to guess the Number \n"
     ]
    }
   ],
   "source": [
    "num=random.randrange(1,100)\n",
    "guessCheck=\"wrong\"\n",
    "print(\"Welcome to guess the Number !\")\n"
   ]
  },
  {
   "cell_type": "code",
   "execution_count": null,
   "id": "2bb716f1",
   "metadata": {},
   "outputs": [
    {
     "name": "stdout",
     "output_type": "stream",
     "text": [
      "Enter a number b/w 1 and 10012\n",
      "the guessed number is lower than the original number, Pleaase try again\n",
      "Enter a number b/w 1 and 10032\n",
      "the guessed number is lower than the original number, Pleaase try again\n",
      "Enter a number b/w 1 and 10057\n",
      "the guessed number is lower than the original number, Pleaase try again\n",
      "Enter a number b/w 1 and 10063\n",
      "the guessed number is higer than the Original number , Please try again\n",
      "Enter a number b/w 1 and 10060\n",
      "the guessed number is lower than the original number, Pleaase try again\n",
      "Enter a number b/w 1 and 10061\n",
      "Congratulations You have guessed the correct number \n"
     ]
    }
   ],
   "source": [
    "while guessCheck==\"wrong\":\n",
    "    response = int(input(\"Enter a number b/w 1 and 100\"))\n",
    "    try:\n",
    "        value=int(response)\n",
    "    except ValueError:\n",
    "        print(\"Error! Invalid Value. Please Try again\")\n",
    "    value=int(response)\n",
    "    if value < num:\n",
    "        print(\"the guessed number is lower than the original number, Pleaase try again\")\n",
    "    elif value > num:\n",
    "        print(\"the guessed number is higer than the Original number , Please try again\")\n",
    "    else :\n",
    "        print (\"Congratulations You have guessed the correct number \")\n",
    "        guessCheck==\"Correct\"\n",
    "\n",
    "print (\" THANK YOU\")"
   ]
  },
  {
   "cell_type": "code",
   "execution_count": null,
   "id": "effb7360",
   "metadata": {},
   "outputs": [],
   "source": []
  }
 ],
 "metadata": {
  "kernelspec": {
   "display_name": "Python 3 (ipykernel)",
   "language": "python",
   "name": "python3"
  },
  "language_info": {
   "codemirror_mode": {
    "name": "ipython",
    "version": 3
   },
   "file_extension": ".py",
   "mimetype": "text/x-python",
   "name": "python",
   "nbconvert_exporter": "python",
   "pygments_lexer": "ipython3",
   "version": "3.9.6"
  }
 },
 "nbformat": 4,
 "nbformat_minor": 5
}
